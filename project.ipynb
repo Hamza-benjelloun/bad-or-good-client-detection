{
 "cells": [
  {
   "cell_type": "markdown",
   "id": "north-bearing",
   "metadata": {
    "id": "north-bearing",
    "papermill": {
     "duration": 0.029101,
     "end_time": "2021-12-10T02:28:21.378261",
     "exception": false,
     "start_time": "2021-12-10T02:28:21.349160",
     "status": "completed"
    },
    "tags": []
   },
   "source": [
    "## **Big data analysis project report and code: Bad/Good client detection from credit card informations** "
   ]
  },
  {
   "cell_type": "markdown",
   "id": "zXgqt2Zosgt_",
   "metadata": {
    "id": "zXgqt2Zosgt_"
   },
   "source": [
    "**1- Problem Introduction :**\n",
    "\n",
    "\n",
    "---\n",
    "\n"
   ]
  },
  {
   "cell_type": "markdown",
   "id": "OrDFBr-rtwVJ",
   "metadata": {
    "id": "OrDFBr-rtwVJ"
   },
   "source": [
    "Credit score cards are a common risk control method in the financial industry. It uses personal information and data submitted by credit card applicants to predict the probability of future defaults and credit card borrowings. The bank is able to decide whether to issue a credit card to the applicant. Credit scores can objectively quantify the magnitude of risk.\n",
    " \n",
    "Generally speaking, credit score cards are based on historical data. Once encountering large economic fluctuations. Past models may lose their original predictive power. Logistic model is a common method for credit scoring. Because Logistic is suitable for binary classification tasks and can calculate the coefficients of each feature. In order to facilitate understanding and operation, the score card will multiply the logistic regression coefficient by a certain value (such as 100) and round it.\n",
    " \n",
    "At present, with the development of machine learning algorithms. More predictive methods such as Boosting, Random Forest, and Support Vector Machines have been introduced into credit card scoring. However, these methods often do not have good transparency. It may be difficult to provide customers and regulators with a reason for rejection or acceptance."
   ]
  },
  {
   "cell_type": "markdown",
   "id": "dyFrLzARuR0_",
   "metadata": {
    "id": "dyFrLzARuR0_"
   },
   "source": [
    "**2- Dataset :**\n",
    "\n",
    "\n",
    "---\n",
    "\n"
   ]
  },
  {
   "cell_type": "markdown",
   "id": "WZx2wvLlrZqJ",
   "metadata": {
    "id": "WZx2wvLlrZqJ"
   },
   "source": [
    "We used two datasets :\n",
    "* application_record.csv (438557 records)\n",
    "* credit_record.csv (1048575 records)\n",
    "\n",
    ">application_record.csv contains appliers personal information, which you could use as features for predicting.\n",
    "\n",
    ">credit_record.csv records users' behaviors of credit card."
   ]
  },
  {
   "cell_type": "markdown",
   "id": "Yyoe0wlQvdu_",
   "metadata": {
    "id": "Yyoe0wlQvdu_"
   },
   "source": [
    "First we imported the libraries we need"
   ]
  },
  {
   "cell_type": "code",
   "execution_count": 1,
   "id": "plain-preserve",
   "metadata": {
    "execution": {
     "iopub.execute_input": "2021-12-10T02:28:21.548905Z",
     "iopub.status.busy": "2021-12-10T02:28:21.546954Z",
     "iopub.status.idle": "2021-12-10T02:28:23.000842Z",
     "shell.execute_reply": "2021-12-10T02:28:22.999627Z",
     "shell.execute_reply.started": "2021-12-10T02:09:42.88851Z"
    },
    "id": "plain-preserve",
    "papermill": {
     "duration": 1.487207,
     "end_time": "2021-12-10T02:28:23.001107",
     "exception": false,
     "start_time": "2021-12-10T02:28:21.513900",
     "status": "completed"
    },
    "tags": []
   },
   "outputs": [],
   "source": [
    "import pandas as pd\n",
    "import numpy as np\n",
    "from imblearn.combine import SMOTETomek\n",
    "from sklearn.ensemble import RandomForestClassifier\n",
    "from sklearn.model_selection import train_test_split, RandomizedSearchCV\n",
    "from sklearn.preprocessing import OneHotEncoder\n",
    "from sklearn.metrics import roc_auc_score, accuracy_score, f1_score\n",
    "import matplotlib.pyplot as plt"
   ]
  },
  {
   "cell_type": "markdown",
   "id": "jN94ST97vv9S",
   "metadata": {
    "id": "jN94ST97vv9S"
   },
   "source": [
    "Then we uploaded our data"
   ]
  },
  {
   "cell_type": "code",
   "execution_count": 2,
   "id": "attached-segment",
   "metadata": {
    "colab": {
     "base_uri": "https://localhost:8080/"
    },
    "execution": {
     "iopub.execute_input": "2021-12-10T02:28:23.063523Z",
     "iopub.status.busy": "2021-12-10T02:28:23.062718Z",
     "iopub.status.idle": "2021-12-10T02:28:25.223011Z",
     "shell.execute_reply": "2021-12-10T02:28:25.223869Z",
     "shell.execute_reply.started": "2021-12-10T02:09:42.898674Z"
    },
    "id": "attached-segment",
    "outputId": "394a9570-2b14-4ba6-e101-90fa2d9a2123",
    "papermill": {
     "duration": 2.195584,
     "end_time": "2021-12-10T02:28:25.224079",
     "exception": false,
     "start_time": "2021-12-10T02:28:23.028495",
     "status": "completed"
    },
    "tags": []
   },
   "outputs": [
    {
     "ename": "FileNotFoundError",
     "evalue": "[Errno 2] No such file or directory: '/content/application_record.csv'",
     "output_type": "error",
     "traceback": [
      "\u001b[1;31m---------------------------------------------------------------------------\u001b[0m",
      "\u001b[1;31mFileNotFoundError\u001b[0m                         Traceback (most recent call last)",
      "\u001b[1;32m<timed exec>\u001b[0m in \u001b[0;36m<module>\u001b[1;34m\u001b[0m\n",
      "\u001b[1;32mC:\\ProgramData\\Anaconda3\\lib\\site-packages\\pandas\\io\\parsers.py\u001b[0m in \u001b[0;36mread_csv\u001b[1;34m(filepath_or_buffer, sep, delimiter, header, names, index_col, usecols, squeeze, prefix, mangle_dupe_cols, dtype, engine, converters, true_values, false_values, skipinitialspace, skiprows, skipfooter, nrows, na_values, keep_default_na, na_filter, verbose, skip_blank_lines, parse_dates, infer_datetime_format, keep_date_col, date_parser, dayfirst, cache_dates, iterator, chunksize, compression, thousands, decimal, lineterminator, quotechar, quoting, doublequote, escapechar, comment, encoding, dialect, error_bad_lines, warn_bad_lines, delim_whitespace, low_memory, memory_map, float_precision, storage_options)\u001b[0m\n\u001b[0;32m    608\u001b[0m     \u001b[0mkwds\u001b[0m\u001b[1;33m.\u001b[0m\u001b[0mupdate\u001b[0m\u001b[1;33m(\u001b[0m\u001b[0mkwds_defaults\u001b[0m\u001b[1;33m)\u001b[0m\u001b[1;33m\u001b[0m\u001b[1;33m\u001b[0m\u001b[0m\n\u001b[0;32m    609\u001b[0m \u001b[1;33m\u001b[0m\u001b[0m\n\u001b[1;32m--> 610\u001b[1;33m     \u001b[1;32mreturn\u001b[0m \u001b[0m_read\u001b[0m\u001b[1;33m(\u001b[0m\u001b[0mfilepath_or_buffer\u001b[0m\u001b[1;33m,\u001b[0m \u001b[0mkwds\u001b[0m\u001b[1;33m)\u001b[0m\u001b[1;33m\u001b[0m\u001b[1;33m\u001b[0m\u001b[0m\n\u001b[0m\u001b[0;32m    611\u001b[0m \u001b[1;33m\u001b[0m\u001b[0m\n\u001b[0;32m    612\u001b[0m \u001b[1;33m\u001b[0m\u001b[0m\n",
      "\u001b[1;32mC:\\ProgramData\\Anaconda3\\lib\\site-packages\\pandas\\io\\parsers.py\u001b[0m in \u001b[0;36m_read\u001b[1;34m(filepath_or_buffer, kwds)\u001b[0m\n\u001b[0;32m    460\u001b[0m \u001b[1;33m\u001b[0m\u001b[0m\n\u001b[0;32m    461\u001b[0m     \u001b[1;31m# Create the parser.\u001b[0m\u001b[1;33m\u001b[0m\u001b[1;33m\u001b[0m\u001b[1;33m\u001b[0m\u001b[0m\n\u001b[1;32m--> 462\u001b[1;33m     \u001b[0mparser\u001b[0m \u001b[1;33m=\u001b[0m \u001b[0mTextFileReader\u001b[0m\u001b[1;33m(\u001b[0m\u001b[0mfilepath_or_buffer\u001b[0m\u001b[1;33m,\u001b[0m \u001b[1;33m**\u001b[0m\u001b[0mkwds\u001b[0m\u001b[1;33m)\u001b[0m\u001b[1;33m\u001b[0m\u001b[1;33m\u001b[0m\u001b[0m\n\u001b[0m\u001b[0;32m    463\u001b[0m \u001b[1;33m\u001b[0m\u001b[0m\n\u001b[0;32m    464\u001b[0m     \u001b[1;32mif\u001b[0m \u001b[0mchunksize\u001b[0m \u001b[1;32mor\u001b[0m \u001b[0miterator\u001b[0m\u001b[1;33m:\u001b[0m\u001b[1;33m\u001b[0m\u001b[1;33m\u001b[0m\u001b[0m\n",
      "\u001b[1;32mC:\\ProgramData\\Anaconda3\\lib\\site-packages\\pandas\\io\\parsers.py\u001b[0m in \u001b[0;36m__init__\u001b[1;34m(self, f, engine, **kwds)\u001b[0m\n\u001b[0;32m    817\u001b[0m             \u001b[0mself\u001b[0m\u001b[1;33m.\u001b[0m\u001b[0moptions\u001b[0m\u001b[1;33m[\u001b[0m\u001b[1;34m\"has_index_names\"\u001b[0m\u001b[1;33m]\u001b[0m \u001b[1;33m=\u001b[0m \u001b[0mkwds\u001b[0m\u001b[1;33m[\u001b[0m\u001b[1;34m\"has_index_names\"\u001b[0m\u001b[1;33m]\u001b[0m\u001b[1;33m\u001b[0m\u001b[1;33m\u001b[0m\u001b[0m\n\u001b[0;32m    818\u001b[0m \u001b[1;33m\u001b[0m\u001b[0m\n\u001b[1;32m--> 819\u001b[1;33m         \u001b[0mself\u001b[0m\u001b[1;33m.\u001b[0m\u001b[0m_engine\u001b[0m \u001b[1;33m=\u001b[0m \u001b[0mself\u001b[0m\u001b[1;33m.\u001b[0m\u001b[0m_make_engine\u001b[0m\u001b[1;33m(\u001b[0m\u001b[0mself\u001b[0m\u001b[1;33m.\u001b[0m\u001b[0mengine\u001b[0m\u001b[1;33m)\u001b[0m\u001b[1;33m\u001b[0m\u001b[1;33m\u001b[0m\u001b[0m\n\u001b[0m\u001b[0;32m    820\u001b[0m \u001b[1;33m\u001b[0m\u001b[0m\n\u001b[0;32m    821\u001b[0m     \u001b[1;32mdef\u001b[0m \u001b[0mclose\u001b[0m\u001b[1;33m(\u001b[0m\u001b[0mself\u001b[0m\u001b[1;33m)\u001b[0m\u001b[1;33m:\u001b[0m\u001b[1;33m\u001b[0m\u001b[1;33m\u001b[0m\u001b[0m\n",
      "\u001b[1;32mC:\\ProgramData\\Anaconda3\\lib\\site-packages\\pandas\\io\\parsers.py\u001b[0m in \u001b[0;36m_make_engine\u001b[1;34m(self, engine)\u001b[0m\n\u001b[0;32m   1048\u001b[0m             )\n\u001b[0;32m   1049\u001b[0m         \u001b[1;31m# error: Too many arguments for \"ParserBase\"\u001b[0m\u001b[1;33m\u001b[0m\u001b[1;33m\u001b[0m\u001b[1;33m\u001b[0m\u001b[0m\n\u001b[1;32m-> 1050\u001b[1;33m         \u001b[1;32mreturn\u001b[0m \u001b[0mmapping\u001b[0m\u001b[1;33m[\u001b[0m\u001b[0mengine\u001b[0m\u001b[1;33m]\u001b[0m\u001b[1;33m(\u001b[0m\u001b[0mself\u001b[0m\u001b[1;33m.\u001b[0m\u001b[0mf\u001b[0m\u001b[1;33m,\u001b[0m \u001b[1;33m**\u001b[0m\u001b[0mself\u001b[0m\u001b[1;33m.\u001b[0m\u001b[0moptions\u001b[0m\u001b[1;33m)\u001b[0m  \u001b[1;31m# type: ignore[call-arg]\u001b[0m\u001b[1;33m\u001b[0m\u001b[1;33m\u001b[0m\u001b[0m\n\u001b[0m\u001b[0;32m   1051\u001b[0m \u001b[1;33m\u001b[0m\u001b[0m\n\u001b[0;32m   1052\u001b[0m     \u001b[1;32mdef\u001b[0m \u001b[0m_failover_to_python\u001b[0m\u001b[1;33m(\u001b[0m\u001b[0mself\u001b[0m\u001b[1;33m)\u001b[0m\u001b[1;33m:\u001b[0m\u001b[1;33m\u001b[0m\u001b[1;33m\u001b[0m\u001b[0m\n",
      "\u001b[1;32mC:\\ProgramData\\Anaconda3\\lib\\site-packages\\pandas\\io\\parsers.py\u001b[0m in \u001b[0;36m__init__\u001b[1;34m(self, src, **kwds)\u001b[0m\n\u001b[0;32m   1865\u001b[0m \u001b[1;33m\u001b[0m\u001b[0m\n\u001b[0;32m   1866\u001b[0m         \u001b[1;31m# open handles\u001b[0m\u001b[1;33m\u001b[0m\u001b[1;33m\u001b[0m\u001b[1;33m\u001b[0m\u001b[0m\n\u001b[1;32m-> 1867\u001b[1;33m         \u001b[0mself\u001b[0m\u001b[1;33m.\u001b[0m\u001b[0m_open_handles\u001b[0m\u001b[1;33m(\u001b[0m\u001b[0msrc\u001b[0m\u001b[1;33m,\u001b[0m \u001b[0mkwds\u001b[0m\u001b[1;33m)\u001b[0m\u001b[1;33m\u001b[0m\u001b[1;33m\u001b[0m\u001b[0m\n\u001b[0m\u001b[0;32m   1868\u001b[0m         \u001b[1;32massert\u001b[0m \u001b[0mself\u001b[0m\u001b[1;33m.\u001b[0m\u001b[0mhandles\u001b[0m \u001b[1;32mis\u001b[0m \u001b[1;32mnot\u001b[0m \u001b[1;32mNone\u001b[0m\u001b[1;33m\u001b[0m\u001b[1;33m\u001b[0m\u001b[0m\n\u001b[0;32m   1869\u001b[0m         \u001b[1;32mfor\u001b[0m \u001b[0mkey\u001b[0m \u001b[1;32min\u001b[0m \u001b[1;33m(\u001b[0m\u001b[1;34m\"storage_options\"\u001b[0m\u001b[1;33m,\u001b[0m \u001b[1;34m\"encoding\"\u001b[0m\u001b[1;33m,\u001b[0m \u001b[1;34m\"memory_map\"\u001b[0m\u001b[1;33m,\u001b[0m \u001b[1;34m\"compression\"\u001b[0m\u001b[1;33m)\u001b[0m\u001b[1;33m:\u001b[0m\u001b[1;33m\u001b[0m\u001b[1;33m\u001b[0m\u001b[0m\n",
      "\u001b[1;32mC:\\ProgramData\\Anaconda3\\lib\\site-packages\\pandas\\io\\parsers.py\u001b[0m in \u001b[0;36m_open_handles\u001b[1;34m(self, src, kwds)\u001b[0m\n\u001b[0;32m   1360\u001b[0m         \u001b[0mLet\u001b[0m \u001b[0mthe\u001b[0m \u001b[0mreaders\u001b[0m \u001b[0mopen\u001b[0m \u001b[0mIOHanldes\u001b[0m \u001b[0mafter\u001b[0m \u001b[0mthey\u001b[0m \u001b[0mare\u001b[0m \u001b[0mdone\u001b[0m \u001b[1;32mwith\u001b[0m \u001b[0mtheir\u001b[0m \u001b[0mpotential\u001b[0m \u001b[0mraises\u001b[0m\u001b[1;33m.\u001b[0m\u001b[1;33m\u001b[0m\u001b[1;33m\u001b[0m\u001b[0m\n\u001b[0;32m   1361\u001b[0m         \"\"\"\n\u001b[1;32m-> 1362\u001b[1;33m         self.handles = get_handle(\n\u001b[0m\u001b[0;32m   1363\u001b[0m             \u001b[0msrc\u001b[0m\u001b[1;33m,\u001b[0m\u001b[1;33m\u001b[0m\u001b[1;33m\u001b[0m\u001b[0m\n\u001b[0;32m   1364\u001b[0m             \u001b[1;34m\"r\"\u001b[0m\u001b[1;33m,\u001b[0m\u001b[1;33m\u001b[0m\u001b[1;33m\u001b[0m\u001b[0m\n",
      "\u001b[1;32mC:\\ProgramData\\Anaconda3\\lib\\site-packages\\pandas\\io\\common.py\u001b[0m in \u001b[0;36mget_handle\u001b[1;34m(path_or_buf, mode, encoding, compression, memory_map, is_text, errors, storage_options)\u001b[0m\n\u001b[0;32m    640\u001b[0m                 \u001b[0merrors\u001b[0m \u001b[1;33m=\u001b[0m \u001b[1;34m\"replace\"\u001b[0m\u001b[1;33m\u001b[0m\u001b[1;33m\u001b[0m\u001b[0m\n\u001b[0;32m    641\u001b[0m             \u001b[1;31m# Encoding\u001b[0m\u001b[1;33m\u001b[0m\u001b[1;33m\u001b[0m\u001b[1;33m\u001b[0m\u001b[0m\n\u001b[1;32m--> 642\u001b[1;33m             handle = open(\n\u001b[0m\u001b[0;32m    643\u001b[0m                 \u001b[0mhandle\u001b[0m\u001b[1;33m,\u001b[0m\u001b[1;33m\u001b[0m\u001b[1;33m\u001b[0m\u001b[0m\n\u001b[0;32m    644\u001b[0m                 \u001b[0mioargs\u001b[0m\u001b[1;33m.\u001b[0m\u001b[0mmode\u001b[0m\u001b[1;33m,\u001b[0m\u001b[1;33m\u001b[0m\u001b[1;33m\u001b[0m\u001b[0m\n",
      "\u001b[1;31mFileNotFoundError\u001b[0m: [Errno 2] No such file or directory: '/content/application_record.csv'"
     ]
    }
   ],
   "source": [
    "%%time\n",
    "app = pd.read_csv('/content/application_record.csv')\n",
    "credit = pd.read_csv('/content/credit_record.csv')"
   ]
  },
  {
   "cell_type": "markdown",
   "id": "cg3a99VuwNz-",
   "metadata": {
    "id": "cg3a99VuwNz-"
   },
   "source": [
    "Then we did some breif data exploratory on our two datasets of credit card records and application records."
   ]
  },
  {
   "cell_type": "markdown",
   "id": "90G2Oo_owcP3",
   "metadata": {
    "id": "90G2Oo_owcP3"
   },
   "source": [
    "* App:"
   ]
  },
  {
   "cell_type": "markdown",
   "id": "iYf7XLgmw570",
   "metadata": {
    "id": "iYf7XLgmw570"
   },
   "source": [
    "> Visualisation\n",
    "\n",
    "\n",
    "\n"
   ]
  },
  {
   "cell_type": "code",
   "execution_count": 3,
   "id": "collectible-indie",
   "metadata": {
    "colab": {
     "base_uri": "https://localhost:8080/",
     "height": 627
    },
    "execution": {
     "iopub.execute_input": "2021-12-10T02:28:25.344710Z",
     "iopub.status.busy": "2021-12-10T02:28:25.344016Z",
     "iopub.status.idle": "2021-12-10T02:28:25.375055Z",
     "shell.execute_reply": "2021-12-10T02:28:25.374555Z",
     "shell.execute_reply.started": "2021-12-10T02:09:43.999693Z"
    },
    "id": "collectible-indie",
    "outputId": "22cebb2b-59cc-4341-877a-e3254ed9d2d6",
    "papermill": {
     "duration": 0.069825,
     "end_time": "2021-12-10T02:28:25.375196",
     "exception": false,
     "start_time": "2021-12-10T02:28:25.305371",
     "status": "completed"
    },
    "tags": []
   },
   "outputs": [
    {
     "ename": "NameError",
     "evalue": "name 'app' is not defined",
     "output_type": "error",
     "traceback": [
      "\u001b[1;31m---------------------------------------------------------------------------\u001b[0m",
      "\u001b[1;31mNameError\u001b[0m                                 Traceback (most recent call last)",
      "\u001b[1;32m<ipython-input-3-8d494114ce46>\u001b[0m in \u001b[0;36m<module>\u001b[1;34m\u001b[0m\n\u001b[1;32m----> 1\u001b[1;33m \u001b[0mapp\u001b[0m\u001b[1;33m\u001b[0m\u001b[1;33m\u001b[0m\u001b[0m\n\u001b[0m",
      "\u001b[1;31mNameError\u001b[0m: name 'app' is not defined"
     ]
    }
   ],
   "source": [
    "app"
   ]
  },
  {
   "cell_type": "markdown",
   "id": "ovnfWEOLxJ5Q",
   "metadata": {
    "id": "ovnfWEOLxJ5Q"
   },
   "source": [
    "> Columns"
   ]
  },
  {
   "cell_type": "code",
   "execution_count": null,
   "id": "based-retailer",
   "metadata": {
    "colab": {
     "base_uri": "https://localhost:8080/"
    },
    "execution": {
     "iopub.execute_input": "2021-12-10T02:28:25.437613Z",
     "iopub.status.busy": "2021-12-10T02:28:25.436587Z",
     "iopub.status.idle": "2021-12-10T02:28:25.441714Z",
     "shell.execute_reply": "2021-12-10T02:28:25.441009Z",
     "shell.execute_reply.started": "2021-12-10T02:09:44.025747Z"
    },
    "id": "based-retailer",
    "outputId": "56add1e6-f7a1-464f-bd9e-016e883a9a03",
    "papermill": {
     "duration": 0.039269,
     "end_time": "2021-12-10T02:28:25.441878",
     "exception": false,
     "start_time": "2021-12-10T02:28:25.402609",
     "status": "completed"
    },
    "tags": []
   },
   "outputs": [],
   "source": [
    "app.columns"
   ]
  },
  {
   "cell_type": "markdown",
   "id": "_PelKMIlxNC7",
   "metadata": {
    "id": "_PelKMIlxNC7"
   },
   "source": [
    "> Shape"
   ]
  },
  {
   "cell_type": "code",
   "execution_count": null,
   "id": "TpHpXFGQwohK",
   "metadata": {
    "colab": {
     "base_uri": "https://localhost:8080/"
    },
    "id": "TpHpXFGQwohK",
    "outputId": "4f692685-b0a8-4e1f-be1c-39175144ad13"
   },
   "outputs": [],
   "source": [
    "app.shape"
   ]
  },
  {
   "cell_type": "markdown",
   "id": "18er7erdxPcU",
   "metadata": {
    "id": "18er7erdxPcU"
   },
   "source": [
    "> Some informations"
   ]
  },
  {
   "cell_type": "code",
   "execution_count": null,
   "id": "BQGJreYBwjZY",
   "metadata": {
    "colab": {
     "base_uri": "https://localhost:8080/"
    },
    "id": "BQGJreYBwjZY",
    "outputId": "bdec3fc0-0969-477e-b1f7-80d11d05e28e"
   },
   "outputs": [],
   "source": [
    "app.info()"
   ]
  },
  {
   "cell_type": "code",
   "execution_count": null,
   "id": "spare-intranet",
   "metadata": {
    "colab": {
     "base_uri": "https://localhost:8080/"
    },
    "execution": {
     "iopub.execute_input": "2021-12-10T02:28:26.217124Z",
     "iopub.status.busy": "2021-12-10T02:28:26.216385Z",
     "iopub.status.idle": "2021-12-10T02:28:26.222077Z",
     "shell.execute_reply": "2021-12-10T02:28:26.222812Z",
     "shell.execute_reply.started": "2021-12-10T02:09:44.448726Z"
    },
    "id": "spare-intranet",
    "outputId": "bfb68bae-57d6-4651-844c-ad567096949a",
    "papermill": {
     "duration": 0.038781,
     "end_time": "2021-12-10T02:28:26.223036",
     "exception": false,
     "start_time": "2021-12-10T02:28:26.184255",
     "status": "completed"
    },
    "tags": []
   },
   "outputs": [],
   "source": [
    "app.shape"
   ]
  },
  {
   "cell_type": "markdown",
   "id": "QQlg_U-sxn7g",
   "metadata": {
    "id": "QQlg_U-sxn7g"
   },
   "source": [
    "* Credit:"
   ]
  },
  {
   "cell_type": "markdown",
   "id": "LbFB0JAUxrdI",
   "metadata": {
    "id": "LbFB0JAUxrdI"
   },
   "source": [
    "> Visualisation"
   ]
  },
  {
   "cell_type": "code",
   "execution_count": null,
   "id": "civilian-criterion",
   "metadata": {
    "colab": {
     "base_uri": "https://localhost:8080/",
     "height": 424
    },
    "execution": {
     "iopub.execute_input": "2021-12-10T02:28:26.440806Z",
     "iopub.status.busy": "2021-12-10T02:28:26.440136Z",
     "iopub.status.idle": "2021-12-10T02:28:26.443454Z",
     "shell.execute_reply": "2021-12-10T02:28:26.443984Z",
     "shell.execute_reply.started": "2021-12-10T02:09:44.535584Z"
    },
    "id": "civilian-criterion",
    "outputId": "f7bfc56c-45f2-425a-ced6-c70d177ade5a",
    "papermill": {
     "duration": 0.042751,
     "end_time": "2021-12-10T02:28:26.444172",
     "exception": false,
     "start_time": "2021-12-10T02:28:26.401421",
     "status": "completed"
    },
    "tags": []
   },
   "outputs": [],
   "source": [
    "credit"
   ]
  },
  {
   "cell_type": "markdown",
   "id": "VGXstPaXx-hm",
   "metadata": {
    "id": "VGXstPaXx-hm"
   },
   "source": [
    "> Shape"
   ]
  },
  {
   "cell_type": "code",
   "execution_count": null,
   "id": "drawn-unemployment",
   "metadata": {
    "colab": {
     "base_uri": "https://localhost:8080/"
    },
    "execution": {
     "iopub.execute_input": "2021-12-10T02:28:26.506636Z",
     "iopub.status.busy": "2021-12-10T02:28:26.505969Z",
     "iopub.status.idle": "2021-12-10T02:28:26.511495Z",
     "shell.execute_reply": "2021-12-10T02:28:26.512031Z",
     "shell.execute_reply.started": "2021-12-10T02:09:44.551594Z"
    },
    "id": "drawn-unemployment",
    "outputId": "3e63a5ba-77e3-47a2-be73-5d2439f8cd27",
    "papermill": {
     "duration": 0.038545,
     "end_time": "2021-12-10T02:28:26.512203",
     "exception": false,
     "start_time": "2021-12-10T02:28:26.473658",
     "status": "completed"
    },
    "tags": []
   },
   "outputs": [],
   "source": [
    "credit.shape"
   ]
  },
  {
   "cell_type": "markdown",
   "id": "fWjRWdPsyBVZ",
   "metadata": {
    "id": "fWjRWdPsyBVZ"
   },
   "source": [
    "> Some informations"
   ]
  },
  {
   "cell_type": "code",
   "execution_count": null,
   "id": "mental-turtle",
   "metadata": {
    "colab": {
     "base_uri": "https://localhost:8080/"
    },
    "execution": {
     "iopub.execute_input": "2021-12-10T02:28:26.575317Z",
     "iopub.status.busy": "2021-12-10T02:28:26.574638Z",
     "iopub.status.idle": "2021-12-10T02:28:26.694691Z",
     "shell.execute_reply": "2021-12-10T02:28:26.695174Z",
     "shell.execute_reply.started": "2021-12-10T02:09:44.567536Z"
    },
    "id": "mental-turtle",
    "outputId": "d9236719-abd2-4cae-a1b9-9164929d32e5",
    "papermill": {
     "duration": 0.153578,
     "end_time": "2021-12-10T02:28:26.695375",
     "exception": false,
     "start_time": "2021-12-10T02:28:26.541797",
     "status": "completed"
    },
    "tags": []
   },
   "outputs": [],
   "source": [
    "credit.info()"
   ]
  },
  {
   "cell_type": "markdown",
   "id": "mD4keb2qyHfW",
   "metadata": {
    "id": "mD4keb2qyHfW"
   },
   "source": [
    "**3- Preprocessing and feature engineering :**\n",
    "\n",
    "\n",
    "---\n"
   ]
  },
  {
   "cell_type": "markdown",
   "id": "po4XvcR-yqI6",
   "metadata": {
    "id": "po4XvcR-yqI6"
   },
   "source": [
    "After the data exploratory we remarqued that there is some \n",
    "duplicated columns on our application records dataset so we droped them.\n",
    "\n",
    "\n"
   ]
  },
  {
   "cell_type": "code",
   "execution_count": null,
   "id": "beneficial-public",
   "metadata": {
    "execution": {
     "iopub.execute_input": "2021-12-10T02:28:25.508004Z",
     "iopub.status.busy": "2021-12-10T02:28:25.507277Z",
     "iopub.status.idle": "2021-12-10T02:28:26.016945Z",
     "shell.execute_reply": "2021-12-10T02:28:26.015948Z",
     "shell.execute_reply.started": "2021-12-10T02:09:44.035812Z"
    },
    "id": "beneficial-public",
    "papermill": {
     "duration": 0.546734,
     "end_time": "2021-12-10T02:28:26.017161",
     "exception": false,
     "start_time": "2021-12-10T02:28:25.470427",
     "status": "completed"
    },
    "tags": []
   },
   "outputs": [],
   "source": [
    "app.drop_duplicates(subset = ['CODE_GENDER', 'FLAG_OWN_CAR', 'FLAG_OWN_REALTY', 'CNT_CHILDREN',\n",
    "       'AMT_INCOME_TOTAL', 'NAME_INCOME_TYPE', 'NAME_EDUCATION_TYPE',\n",
    "       'NAME_FAMILY_STATUS', 'NAME_HOUSING_TYPE', 'DAYS_BIRTH',\n",
    "       'DAYS_EMPLOYED', 'FLAG_MOBIL', 'FLAG_WORK_PHONE', 'FLAG_PHONE',\n",
    "       'FLAG_EMAIL', 'OCCUPATION_TYPE', 'CNT_FAM_MEMBERS'], keep = 'first', inplace = True)"
   ]
  },
  {
   "cell_type": "markdown",
   "id": "F9uCX5SSy_4R",
   "metadata": {
    "id": "F9uCX5SSy_4R"
   },
   "source": [
    "And we also noticed that there is some features that are not useful such as FLAG_OWN_REALTY."
   ]
  },
  {
   "cell_type": "code",
   "execution_count": null,
   "id": "illegal-hampshire",
   "metadata": {
    "colab": {
     "base_uri": "https://localhost:8080/"
    },
    "execution": {
     "iopub.execute_input": "2021-12-10T02:28:26.138242Z",
     "iopub.status.busy": "2021-12-10T02:28:26.137522Z",
     "iopub.status.idle": "2021-12-10T02:28:26.155457Z",
     "shell.execute_reply": "2021-12-10T02:28:26.155990Z",
     "shell.execute_reply.started": "2021-12-10T02:09:44.428861Z"
    },
    "id": "illegal-hampshire",
    "outputId": "97044fc1-55d5-4112-f1c4-09dda5260bfb",
    "papermill": {
     "duration": 0.052567,
     "end_time": "2021-12-10T02:28:26.156183",
     "exception": false,
     "start_time": "2021-12-10T02:28:26.103616",
     "status": "completed"
    },
    "tags": []
   },
   "outputs": [],
   "source": [
    "app.drop('FLAG_OWN_REALTY', axis = 1, inplace = True)\n",
    "app.columns"
   ]
  },
  {
   "cell_type": "markdown",
   "id": "ROlig8LizbgT",
   "metadata": {
    "id": "ROlig8LizbgT"
   },
   "source": [
    "Also we had to do some feature engineering to to analyze length of time since initial approval of credit card shows number of past dues, paid off and no loan status, and we counted the number of past dues, paif offs and no loans.Finally we merged the results inside the column ID inside our pivot table."
   ]
  },
  {
   "cell_type": "code",
   "execution_count": null,
   "id": "periodic-protest",
   "metadata": {
    "execution": {
     "iopub.execute_input": "2021-12-10T02:28:26.770063Z",
     "iopub.status.busy": "2021-12-10T02:28:26.769376Z",
     "iopub.status.idle": "2021-12-10T02:28:33.012560Z",
     "shell.execute_reply": "2021-12-10T02:28:33.011870Z",
     "shell.execute_reply.started": "2021-12-10T02:09:44.682309Z"
    },
    "id": "periodic-protest",
    "papermill": {
     "duration": 6.286556,
     "end_time": "2021-12-10T02:28:33.012704",
     "exception": false,
     "start_time": "2021-12-10T02:28:26.726148",
     "status": "completed"
    },
    "tags": []
   },
   "outputs": [],
   "source": [
    "grouped = credit.groupby('ID')\n",
    "\n",
    "pivot_tb = credit.pivot(index = 'ID', columns = 'MONTHS_BALANCE', values = 'STATUS')\n",
    "pivot_tb['open_month'] = grouped['MONTHS_BALANCE'].min()\n",
    "pivot_tb['end_month'] = grouped['MONTHS_BALANCE'].max()\n",
    "pivot_tb['window'] = pivot_tb['end_month'] - pivot_tb['open_month']\n",
    "pivot_tb['window'] += 1 # Adding 1 since month starts at 0.\n",
    "\n",
    "pivot_tb['paid_off'] = pivot_tb[pivot_tb.iloc[:,0:61] == 'C'].count(axis = 1)\n",
    "pivot_tb['pastdue_1-29'] = pivot_tb[pivot_tb.iloc[:,0:61] == '0'].count(axis = 1)\n",
    "pivot_tb['pastdue_30-59'] = pivot_tb[pivot_tb.iloc[:,0:61] == '1'].count(axis = 1)\n",
    "pivot_tb['pastdue_60-89'] = pivot_tb[pivot_tb.iloc[:,0:61] == '2'].count(axis = 1)\n",
    "pivot_tb['pastdue_90-119'] = pivot_tb[pivot_tb.iloc[:,0:61] == '3'].count(axis = 1)\n",
    "pivot_tb['pastdue_120-149'] = pivot_tb[pivot_tb.iloc[:,0:61] == '4'].count(axis = 1)\n",
    "pivot_tb['pastdue_over_150'] = pivot_tb[pivot_tb.iloc[:,0:61] == '5'].count(axis = 1)\n",
    "pivot_tb['no_loan'] = pivot_tb[pivot_tb.iloc[:,0:61] == 'X'].count(axis = 1)\n",
    "pivot_tb['ID'] = pivot_tb.index"
   ]
  },
  {
   "cell_type": "code",
   "execution_count": null,
   "id": "4Rx220Ll6kQ3",
   "metadata": {
    "colab": {
     "base_uri": "https://localhost:8080/",
     "height": 325
    },
    "id": "4Rx220Ll6kQ3",
    "outputId": "b89359a5-57f8-4050-9a8b-c0e303d72e8b"
   },
   "outputs": [],
   "source": [
    "pivot_tb[:10].plot.bar(ylim=0)\n",
    "plt.show()"
   ]
  },
  {
   "cell_type": "code",
   "execution_count": null,
   "id": "polyphonic-family",
   "metadata": {
    "colab": {
     "base_uri": "https://localhost:8080/",
     "height": 476
    },
    "execution": {
     "iopub.execute_input": "2021-12-10T02:28:33.091137Z",
     "iopub.status.busy": "2021-12-10T02:28:33.079982Z",
     "iopub.status.idle": "2021-12-10T02:28:33.105257Z",
     "shell.execute_reply": "2021-12-10T02:28:33.105799Z",
     "shell.execute_reply.started": "2021-12-10T02:09:49.624775Z"
    },
    "id": "polyphonic-family",
    "outputId": "3067ddef-4d5b-4a9e-f321-db53aece2b61",
    "papermill": {
     "duration": 0.063382,
     "end_time": "2021-12-10T02:28:33.105967",
     "exception": false,
     "start_time": "2021-12-10T02:28:33.042585",
     "status": "completed"
    },
    "tags": []
   },
   "outputs": [],
   "source": [
    "pivot_tb.head(10)"
   ]
  },
  {
   "cell_type": "markdown",
   "id": "offshore-example",
   "metadata": {
    "id": "offshore-example",
    "papermill": {
     "duration": 0.030198,
     "end_time": "2021-12-10T02:28:33.167187",
     "exception": false,
     "start_time": "2021-12-10T02:28:33.136989",
     "status": "completed"
    },
    "tags": []
   },
   "source": [
    "We defined a function to do some useful quick feature engineering and data cleaning.We counted the number of familly members and children to get a new feature of overall familly members, Then we droped some unuseful columns.\n",
    "We converted the features DAYS_BIRTH and DAYS_EMPLOYED to years because this format is more important for our case of study.\n",
    "Finally, We handled categorical variables by choosing most important categories after doing some researches."
   ]
  },
  {
   "cell_type": "code",
   "execution_count": null,
   "id": "composite-stephen",
   "metadata": {
    "execution": {
     "iopub.execute_input": "2021-12-10T02:28:33.232066Z",
     "iopub.status.busy": "2021-12-10T02:28:33.231119Z",
     "iopub.status.idle": "2021-12-10T02:28:33.241194Z",
     "shell.execute_reply": "2021-12-10T02:28:33.241854Z",
     "shell.execute_reply.started": "2021-12-10T02:09:49.658187Z"
    },
    "id": "composite-stephen",
    "papermill": {
     "duration": 0.044115,
     "end_time": "2021-12-10T02:28:33.242032",
     "exception": false,
     "start_time": "2021-12-10T02:28:33.197917",
     "status": "completed"
    },
    "tags": []
   },
   "outputs": [],
   "source": [
    "def data_cleansing(data):\n",
    "    # Adding number of family members with number of children to get overall family members.\n",
    "    data['CNT_FAM_MEMBERS'] = data['CNT_FAM_MEMBERS'] + data['CNT_CHILDREN']\n",
    "    dropped_cols = ['FLAG_MOBIL', 'FLAG_WORK_PHONE', 'FLAG_PHONE',\n",
    "       'FLAG_EMAIL','OCCUPATION_TYPE','CNT_CHILDREN']\n",
    "    data = data.drop(dropped_cols, axis = 1)\n",
    "    \n",
    "    #converting birth years and days employed to years.\n",
    "    data['DAYS_BIRTH'] = np.abs(data['DAYS_BIRTH']/365)\n",
    "    data['DAYS_EMPLOYED'] = data['DAYS_EMPLOYED']/365 \n",
    "    \n",
    "    #Cleaning up categorical values to lower the count of dummy variables.\n",
    "    housing_type = {'House / apartment' : 'House / apartment',\n",
    "                   'With parents': 'With parents',\n",
    "                    'Municipal apartment' : 'House / apartment',\n",
    "                    'Rented apartment': 'House / apartment',\n",
    "                    'Office apartment': 'House / apartment',\n",
    "                    'Co-op apartment': 'House / apartment'}\n",
    "              \n",
    "    income_type = {'Commercial associate':'Working',\n",
    "                  'State servant':'Working',\n",
    "                  'Working':'Working',\n",
    "                  'Pensioner':'Pensioner',\n",
    "                  'Student':'Student'}\n",
    "    education_type = {'Secondary / secondary special':'secondary',\n",
    "                     'Lower secondary':'secondary',\n",
    "                     'Higher education':'Higher education',\n",
    "                     'Incomplete higher':'Higher education',\n",
    "                     'Academic degree':'Academic degree'}\n",
    "    family_status = {'Single / not married':'Single',\n",
    "                     'Separated':'Single',\n",
    "                     'Widow':'Single',\n",
    "                     'Civil marriage':'Married',\n",
    "                    'Married':'Married'}\n",
    "    data['NAME_HOUSING_TYPE'] = data['NAME_HOUSING_TYPE'].map(housing_type)\n",
    "    data['NAME_INCOME_TYPE'] = data['NAME_INCOME_TYPE'].map(income_type)\n",
    "    data['NAME_EDUCATION_TYPE']=data['NAME_EDUCATION_TYPE'].map(education_type)\n",
    "    data['NAME_FAMILY_STATUS']=data['NAME_FAMILY_STATUS'].map(family_status)\n",
    "    return data"
   ]
  },
  {
   "cell_type": "code",
   "execution_count": null,
   "id": "figured-camel",
   "metadata": {
    "execution": {
     "iopub.execute_input": "2021-12-10T02:28:33.308103Z",
     "iopub.status.busy": "2021-12-10T02:28:33.307194Z",
     "iopub.status.idle": "2021-12-10T02:28:33.378400Z",
     "shell.execute_reply": "2021-12-10T02:28:33.378993Z",
     "shell.execute_reply.started": "2021-12-10T02:09:49.672296Z"
    },
    "id": "figured-camel",
    "papermill": {
     "duration": 0.106161,
     "end_time": "2021-12-10T02:28:33.379202",
     "exception": false,
     "start_time": "2021-12-10T02:28:33.273041",
     "status": "completed"
    },
    "tags": []
   },
   "outputs": [],
   "source": [
    "cleansed_app = data_cleansing(app)"
   ]
  },
  {
   "cell_type": "markdown",
   "id": "varying-longitude",
   "metadata": {
    "id": "varying-longitude",
    "papermill": {
     "duration": 0.030777,
     "end_time": "2021-12-10T02:28:33.505846",
     "exception": false,
     "start_time": "2021-12-10T02:28:33.475069",
     "status": "completed"
    },
    "tags": []
   },
   "source": [
    "A ratio based method was used to create the target variable. For example, given a client with a time period of 60 months, if the client had paid off loan 40 times and was late 20 times, this would be considered a fairly good client given that there were more loans that were paid off on time compared to late payments. If a client had no loans throughout the initial approval of the credit card account, by default, this would be considered a good client as well. To identify a bad client, the number of past dues would exceed the number of loans paid off  or if the client only has past dues. It may be better to incorporate a set difference between number of paid off loans and number of past dues. Meaning, there needs to be a significant gap between paid off loans and past dues. If a person has 50 past dues and 51 paid off loans, based on the ratio method, this would be considered good. However the difference is only 1 and this may not be a good sign of a good client. For simplicity sake, I will not adjust the algorithm further and keep it at ratio decisioning. Code is also not optimal, adjustment may be needed for the code to compute faster."
   ]
  },
  {
   "cell_type": "code",
   "execution_count": null,
   "id": "legal-science",
   "metadata": {
    "execution": {
     "iopub.execute_input": "2021-12-10T02:28:33.573512Z",
     "iopub.status.busy": "2021-12-10T02:28:33.572477Z",
     "iopub.status.idle": "2021-12-10T02:28:33.582487Z",
     "shell.execute_reply": "2021-12-10T02:28:33.583057Z",
     "shell.execute_reply.started": "2021-12-10T02:09:49.750048Z"
    },
    "id": "legal-science",
    "papermill": {
     "duration": 0.046142,
     "end_time": "2021-12-10T02:28:33.583284",
     "exception": false,
     "start_time": "2021-12-10T02:28:33.537142",
     "status": "completed"
    },
    "tags": []
   },
   "outputs": [],
   "source": [
    "def feature_engineering_target(data):\n",
    "    good_or_bad = []\n",
    "    for index, row in data.iterrows():\n",
    "        paid_off = row['paid_off']\n",
    "        over_1 = row['pastdue_1-29']\n",
    "        over_30 = row['pastdue_30-59']\n",
    "        over_60 = row['pastdue_60-89'] \n",
    "        over_90 = row['pastdue_90-119']\n",
    "        over_120 = row['pastdue_120-149'] + row['pastdue_over_150']\n",
    "        no_loan = row['no_loan']\n",
    "            \n",
    "        overall_pastdues = over_1+over_30+over_60+over_90+over_120    \n",
    "            \n",
    "        if overall_pastdues == 0:\n",
    "            if paid_off >= no_loan or paid_off <= no_loan:\n",
    "                good_or_bad.append(1)\n",
    "            elif paid_off == 0 and no_loan == 1:\n",
    "                good_or_bad.append(1)\n",
    "        \n",
    "        elif overall_pastdues != 0:\n",
    "            if paid_off > overall_pastdues:\n",
    "                good_or_bad.append(1)\n",
    "            elif paid_off <= overall_pastdues:\n",
    "                good_or_bad.append(0)\n",
    "        \n",
    "        elif paid_off == 0 and no_loan != 0:\n",
    "            if overall_pastdues <= no_loan or overall_pastdues >= no_loan:\n",
    "                good_or_bad.append(0)\n",
    "\n",
    "        else:\n",
    "            good_or_bad.append(1)\n",
    "                \n",
    "        \n",
    "    return good_or_bad"
   ]
  },
  {
   "cell_type": "markdown",
   "id": "surprised-merit",
   "metadata": {
    "id": "surprised-merit",
    "papermill": {
     "duration": 0.030794,
     "end_time": "2021-12-10T02:28:33.645862",
     "exception": false,
     "start_time": "2021-12-10T02:28:33.615068",
     "status": "completed"
    },
    "tags": []
   },
   "source": [
    "There is some data of clients in the credit data that intersect with the application data. the following is a merge between the two data frames given on the data of clients that exist in both data sets. Featured engineered additional columns from the credit data."
   ]
  },
  {
   "cell_type": "code",
   "execution_count": null,
   "id": "thirty-passion",
   "metadata": {
    "execution": {
     "iopub.execute_input": "2021-12-10T02:28:33.717327Z",
     "iopub.status.busy": "2021-12-10T02:28:33.716607Z",
     "iopub.status.idle": "2021-12-10T02:28:39.710144Z",
     "shell.execute_reply": "2021-12-10T02:28:39.709563Z",
     "shell.execute_reply.started": "2021-12-10T02:09:49.76464Z"
    },
    "id": "thirty-passion",
    "papermill": {
     "duration": 6.033625,
     "end_time": "2021-12-10T02:28:39.710338",
     "exception": false,
     "start_time": "2021-12-10T02:28:33.676713",
     "status": "completed"
    },
    "tags": []
   },
   "outputs": [],
   "source": [
    "target = pd.DataFrame()\n",
    "target['ID'] = pivot_tb.index\n",
    "target['paid_off'] = pivot_tb['paid_off'].values\n",
    "target['#_of_pastdues'] = pivot_tb['pastdue_1-29'].values+ pivot_tb['pastdue_30-59'].values + pivot_tb['pastdue_60-89'].values +pivot_tb['pastdue_90-119'].values+pivot_tb['pastdue_120-149'].values +pivot_tb['pastdue_over_150'].values\n",
    "target['no_loan'] = pivot_tb['no_loan'].values\n",
    "target['target'] = feature_engineering_target(pivot_tb)\n",
    "credit_app = cleansed_app.merge(target, how = 'inner', on = 'ID')\n",
    "credit_app.drop('ID', axis = 1, inplace = True)"
   ]
  },
  {
   "cell_type": "markdown",
   "id": "qO9o4C_x2atA",
   "metadata": {
    "id": "qO9o4C_x2atA"
   },
   "source": [
    "**4- Model Selection and Postprocessing :**\n",
    "\n",
    "\n",
    "---\n"
   ]
  },
  {
   "cell_type": "markdown",
   "id": "fLehMj8R2icF",
   "metadata": {
    "id": "fLehMj8R2icF"
   },
   "source": [
    "We began our preprocessing with splitting our data to 80% of training set and 20% for testing."
   ]
  },
  {
   "cell_type": "code",
   "execution_count": null,
   "id": "outer-metallic",
   "metadata": {
    "execution": {
     "iopub.execute_input": "2021-12-10T02:28:39.783295Z",
     "iopub.status.busy": "2021-12-10T02:28:39.782593Z",
     "iopub.status.idle": "2021-12-10T02:28:39.788396Z",
     "shell.execute_reply": "2021-12-10T02:28:39.787801Z",
     "shell.execute_reply.started": "2021-12-10T02:09:57.180046Z"
    },
    "id": "outer-metallic",
    "papermill": {
     "duration": 0.047024,
     "end_time": "2021-12-10T02:28:39.788555",
     "exception": false,
     "start_time": "2021-12-10T02:28:39.741531",
     "status": "completed"
    },
    "tags": []
   },
   "outputs": [],
   "source": [
    "x = credit_app[credit_app.drop('target', axis = 1).columns]\n",
    "y = credit_app['target']\n",
    "xtrain, xtest, ytrain, ytest = train_test_split(x,y, train_size = 0.8, random_state = 0)"
   ]
  },
  {
   "cell_type": "markdown",
   "id": "YfkEY39r2-BF",
   "metadata": {
    "id": "YfkEY39r2-BF"
   },
   "source": [
    "We transformed our data using One Hot encoding on categorical data because it's the best transformation we could use and it has a better reputation with resulting a good trained model."
   ]
  },
  {
   "cell_type": "code",
   "execution_count": null,
   "id": "adequate-container",
   "metadata": {
    "execution": {
     "iopub.execute_input": "2021-12-10T02:28:39.856101Z",
     "iopub.status.busy": "2021-12-10T02:28:39.855358Z",
     "iopub.status.idle": "2021-12-10T02:28:39.866390Z",
     "shell.execute_reply": "2021-12-10T02:28:39.866949Z",
     "shell.execute_reply.started": "2021-12-10T02:09:57.19479Z"
    },
    "id": "adequate-container",
    "papermill": {
     "duration": 0.047482,
     "end_time": "2021-12-10T02:28:39.867198",
     "exception": false,
     "start_time": "2021-12-10T02:28:39.819716",
     "status": "completed"
    },
    "tags": []
   },
   "outputs": [],
   "source": [
    "def transfromation(train, test):\n",
    "    ohe = OneHotEncoder(drop = 'if_binary')\n",
    "    xtrain_cat = train.select_dtypes(['object'])\n",
    "    xtest_cat = test.select_dtypes(['object'])\n",
    "    \n",
    "    train_dummies = pd.DataFrame(ohe.fit_transform(xtrain_cat).todense(), \n",
    "                              columns = ohe.get_feature_names(xtrain_cat.columns))\n",
    "    test_dummies = pd.DataFrame(ohe.transform(xtest_cat).todense(), \n",
    "                                columns = ohe.get_feature_names(xtest_cat.columns))\n",
    "    train_dummies.index = train.index\n",
    "    test_dummies.index = test.index\n",
    "    \n",
    "    train_with_dummies = pd.concat([train,train_dummies], axis = 1)\n",
    "    train_with_dummies.drop(xtrain_cat.columns, axis = 1, inplace = True)\n",
    "    \n",
    "    test_with_dummies = pd.concat([test,test_dummies], axis = 1)\n",
    "    test_with_dummies.drop(xtest_cat.columns, axis = 1, inplace = True)\n",
    "    \n",
    "    return train_with_dummies, test_with_dummies"
   ]
  },
  {
   "cell_type": "code",
   "execution_count": null,
   "id": "possible-flavor",
   "metadata": {
    "colab": {
     "base_uri": "https://localhost:8080/"
    },
    "execution": {
     "iopub.execute_input": "2021-12-10T02:28:39.944563Z",
     "iopub.status.busy": "2021-12-10T02:28:39.943861Z",
     "iopub.status.idle": "2021-12-10T02:28:39.991444Z",
     "shell.execute_reply": "2021-12-10T02:28:39.990670Z",
     "shell.execute_reply.started": "2021-12-10T02:09:57.210274Z"
    },
    "id": "possible-flavor",
    "outputId": "85020faf-1df9-41e4-fd18-6b106d4d2af1",
    "papermill": {
     "duration": 0.090641,
     "end_time": "2021-12-10T02:28:39.991606",
     "exception": false,
     "start_time": "2021-12-10T02:28:39.900965",
     "status": "completed"
    },
    "tags": []
   },
   "outputs": [],
   "source": [
    "xtrain_with_dummies, xtest_with_dummies = transfromation(xtrain,xtest)"
   ]
  },
  {
   "cell_type": "code",
   "execution_count": null,
   "id": "opposite-wholesale",
   "metadata": {
    "colab": {
     "base_uri": "https://localhost:8080/"
    },
    "execution": {
     "iopub.execute_input": "2021-12-10T02:28:40.059710Z",
     "iopub.status.busy": "2021-12-10T02:28:40.058888Z",
     "iopub.status.idle": "2021-12-10T02:28:40.066108Z",
     "shell.execute_reply": "2021-12-10T02:28:40.066809Z",
     "shell.execute_reply.started": "2021-12-10T02:09:57.271039Z"
    },
    "id": "opposite-wholesale",
    "outputId": "57a7cdc6-e5c4-4511-bfd1-994558f7d1e0",
    "papermill": {
     "duration": 0.043306,
     "end_time": "2021-12-10T02:28:40.067110",
     "exception": false,
     "start_time": "2021-12-10T02:28:40.023804",
     "status": "completed"
    },
    "tags": []
   },
   "outputs": [],
   "source": [
    "print(ytrain.value_counts())\n",
    "print(ytest.value_counts())"
   ]
  },
  {
   "cell_type": "markdown",
   "id": "E6OxNSkS3x-H",
   "metadata": {
    "id": "E6OxNSkS3x-H"
   },
   "source": [
    "We noticed that our datasets are not highly imbalanced so we don't have to use a SMOTE oversampling, And for our model selection we choosed random forest wich adds additional randomness to the model, while growing the trees. Instead of searching for the most important feature while splitting a node, it searches for the best feature among a random subset of features. This results in a wide diversity that generally results in a better model.\n"
   ]
  },
  {
   "cell_type": "markdown",
   "id": "tRfcL0cI4jtx",
   "metadata": {
    "id": "tRfcL0cI4jtx"
   },
   "source": [
    "We used a grid search with a selection of attributes to evaluate our model and get the best results, also avoid overfitting or underfitting."
   ]
  },
  {
   "cell_type": "code",
   "execution_count": null,
   "id": "champion-schedule",
   "metadata": {
    "colab": {
     "base_uri": "https://localhost:8080/"
    },
    "execution": {
     "iopub.execute_input": "2021-12-10T02:28:40.268585Z",
     "iopub.status.busy": "2021-12-10T02:28:40.267843Z",
     "iopub.status.idle": "2021-12-10T02:29:02.632366Z",
     "shell.execute_reply": "2021-12-10T02:29:02.631393Z",
     "shell.execute_reply.started": "2021-12-10T02:09:57.280152Z"
    },
    "id": "champion-schedule",
    "outputId": "26986ca9-2ef8-47b9-f00f-669d9c039cf6",
    "papermill": {
     "duration": 22.400442,
     "end_time": "2021-12-10T02:29:02.632587",
     "exception": false,
     "start_time": "2021-12-10T02:28:40.232145",
     "status": "completed"
    },
    "tags": []
   },
   "outputs": [],
   "source": [
    "n_estimators = [int(x) for x in np.linspace(start = 10, stop = 200, num = 2)]\n",
    "max_features = ['auto', 'sqrt']\n",
    "max_depth = [int(x) for x in np.linspace(10, 110, num = 11)]\n",
    "max_depth.append(None)\n",
    "min_samples_split = [2, 5, 10]\n",
    "min_samples_leaf = [1, 2, 4]\n",
    "bootstrap = [True, False]\n",
    "\n",
    "grid_rf = {'n_estimators': n_estimators,\n",
    "               'max_features': max_features,\n",
    "               'max_depth': max_depth,\n",
    "               'min_samples_split': min_samples_split,\n",
    "               'min_samples_leaf': min_samples_leaf,\n",
    "               'bootstrap': bootstrap}\n",
    "\n",
    "rf = RandomForestClassifier()\n",
    "grid = RandomizedSearchCV(rf, grid_rf, cv = 5,verbose = True, n_jobs = -1)\n",
    "grid.fit(xtrain_with_dummies,ytrain)\n",
    "params = grid.best_params_\n",
    "print(params)"
   ]
  },
  {
   "cell_type": "markdown",
   "id": "yq3pwmsN5kl-",
   "metadata": {
    "id": "yq3pwmsN5kl-"
   },
   "source": [
    "**5- Conclusion :**\n",
    "\n",
    "\n",
    "---\n",
    "\n"
   ]
  },
  {
   "cell_type": "markdown",
   "id": "oGbV6nhA4-WB",
   "metadata": {
    "id": "oGbV6nhA4-WB"
   },
   "source": [
    "After tunning our parameters and getting the best of this laters we started our training of the best model, Then we did some test to get our model accuracy,f1 score and efficiency(ROC AUC)."
   ]
  },
  {
   "cell_type": "code",
   "execution_count": null,
   "id": "casual-population",
   "metadata": {
    "colab": {
     "base_uri": "https://localhost:8080/"
    },
    "execution": {
     "iopub.execute_input": "2021-12-10T02:29:02.972549Z",
     "iopub.status.busy": "2021-12-10T02:29:02.971799Z",
     "iopub.status.idle": "2021-12-10T02:29:03.837006Z",
     "shell.execute_reply": "2021-12-10T02:29:03.837518Z",
     "shell.execute_reply.started": "2021-12-10T02:10:19.058695Z"
    },
    "id": "casual-population",
    "outputId": "4aa8d49e-307f-4808-8235-0fba75070434",
    "papermill": {
     "duration": 0.907241,
     "end_time": "2021-12-10T02:29:03.837721",
     "exception": false,
     "start_time": "2021-12-10T02:29:02.930480",
     "status": "completed"
    },
    "tags": []
   },
   "outputs": [],
   "source": [
    "rf_grid = RandomForestClassifier(n_estimators = 200, min_samples_split = 5, min_samples_leaf = 2, max_features = 'sqrt', max_depth = 80, bootstrap = True, random_state = 0) \n",
    "rf.fit(xtrain_with_dummies, ytrain) \n",
    "predictions_test = rf.predict(xtest_with_dummies)\n",
    "roc_auc_test = roc_auc_score(ytest,predictions_test) \n",
    "accuracy_test = accuracy_score(ytest,predictions_test)\n",
    "f1_test = f1_score(ytest, predictions_test)\n",
    "\n",
    "print('roc_auc test: ', roc_auc_test) \n",
    "print('accuracy test: ', accuracy_test) \n",
    "print('f1 test: ', f1_test)\n",
    "\n"
   ]
  }
 ],
 "metadata": {
  "colab": {
   "name": "predicting-good-or-bad-client.ipynb",
   "provenance": []
  },
  "kernelspec": {
   "display_name": "Python 3",
   "language": "python",
   "name": "python3"
  },
  "language_info": {
   "codemirror_mode": {
    "name": "ipython",
    "version": 3
   },
   "file_extension": ".py",
   "mimetype": "text/x-python",
   "name": "python",
   "nbconvert_exporter": "python",
   "pygments_lexer": "ipython3",
   "version": "3.8.8"
  },
  "papermill": {
   "default_parameters": {},
   "duration": 51.862465,
   "end_time": "2021-12-10T02:29:04.883506",
   "environment_variables": {},
   "exception": null,
   "input_path": "__notebook__.ipynb",
   "output_path": "__notebook__.ipynb",
   "parameters": {},
   "start_time": "2021-12-10T02:28:13.021041",
   "version": "2.3.3"
  }
 },
 "nbformat": 4,
 "nbformat_minor": 5
}
